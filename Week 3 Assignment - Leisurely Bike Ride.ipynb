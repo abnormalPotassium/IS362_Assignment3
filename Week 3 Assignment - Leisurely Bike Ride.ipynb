{
 "cells": [
  {
   "cell_type": "code",
   "execution_count": 1,
   "metadata": {},
   "outputs": [],
   "source": [
    "import pandas as pd\n",
    "import numpy as np\n",
    "import random"
   ]
  },
  {
   "cell_type": "markdown",
   "metadata": {},
   "source": [
    "## Generating The Daily Miles\n",
    "\n",
    "There are 1,519 miles between New York City and Key West according to Google Maps. This is 124 hours of biking and ferries being taken. If we assume that we bike 8 hours a day then it'll take approximately 16 days to get there. This means our series shall have 16 entries. Ideally we would ride at the same speed and the same amount of miles per day which we would get by dividing 1519 and 16 (95). However, realistically there would be some variation every day. We can generate this variation by making 16 random numbers ourselves from 70-130 and then multiplying each number by the 1519 miles we need over the sum of all the random numbers:"
   ]
  },
  {
   "cell_type": "code",
   "execution_count": 2,
   "metadata": {},
   "outputs": [],
   "source": [
    "daily_miles = []\n",
    "for i in range(16):\n",
    "    daily_miles.append(random.randint(70,130))\n",
    "daily_miles = np.array(daily_miles)\n",
    "daily_miles = daily_miles * (1519/sum(daily_miles))"
   ]
  },
  {
   "cell_type": "markdown",
   "metadata": {},
   "source": [
    "## Generating The Odometer Log\n",
    "\n",
    "We can't just enter this into the series object ourselves as that would just give us what we're ultimately looking for in the end, the individual miles rode each day. Instead we can write up some code that gives us an array that ultimately has the cumulative miles at the end of each day and then enter those into a series:"
   ]
  },
  {
   "cell_type": "code",
   "execution_count": 3,
   "metadata": {},
   "outputs": [
    {
     "name": "stdout",
     "output_type": "stream",
     "text": [
      "0       68.688630\n",
      "1      179.571705\n",
      "2      261.016796\n",
      "3      330.686693\n",
      "4      401.337855\n",
      "5      512.220930\n",
      "6      621.141473\n",
      "7      696.698966\n",
      "8      813.469638\n",
      "9      886.083333\n",
      "10    1004.816537\n",
      "11    1098.036822\n",
      "12    1217.751292\n",
      "13    1331.578165\n",
      "14    1412.041990\n",
      "15    1519.000000\n",
      "dtype: float64\n"
     ]
    }
   ],
   "source": [
    "daily_miles = np.cumsum(daily_miles)\n",
    "bike_odometer = pd.Series(daily_miles)\n",
    "print(bike_odometer)"
   ]
  },
  {
   "cell_type": "markdown",
   "metadata": {},
   "source": [
    "## Showing Total Miles Rode Each Day\n",
    "\n",
    "In order to find the total miles each day we simply have to subtract the odometer value on a day with the odometer value for the previous day:"
   ]
  },
  {
   "cell_type": "code",
   "execution_count": 4,
   "metadata": {},
   "outputs": [
    {
     "name": "stdout",
     "output_type": "stream",
     "text": [
      "0      68.688630\n",
      "1     110.883075\n",
      "2      81.445090\n",
      "3      69.669897\n",
      "4      70.651163\n",
      "5     110.883075\n",
      "6     108.920543\n",
      "7      75.557494\n",
      "8     116.770672\n",
      "9      72.613695\n",
      "10    118.733204\n",
      "11     93.220284\n",
      "12    119.714470\n",
      "13    113.826873\n",
      "14     80.463824\n",
      "15    106.958010\n",
      "dtype: float64\n"
     ]
    }
   ],
   "source": [
    "calculated_daily_miles = pd.Series([], dtype = 'float64')\n",
    "for x,y in bike_odometer.items():\n",
    "    if x == 0:\n",
    "        calculated_daily_miles[x] = y\n",
    "    else:\n",
    "        calculated_daily_miles[x] = y - bike_odometer[x-1]\n",
    "print(calculated_daily_miles)"
   ]
  }
 ],
 "metadata": {
  "kernelspec": {
   "display_name": "Python 3",
   "language": "python",
   "name": "python3"
  },
  "language_info": {
   "codemirror_mode": {
    "name": "ipython",
    "version": 3
   },
   "file_extension": ".py",
   "mimetype": "text/x-python",
   "name": "python",
   "nbconvert_exporter": "python",
   "pygments_lexer": "ipython3",
   "version": "3.7.4"
  }
 },
 "nbformat": 4,
 "nbformat_minor": 4
}
